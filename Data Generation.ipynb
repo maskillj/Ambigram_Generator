{
 "cells": [
  {
   "cell_type": "code",
   "execution_count": 55,
   "id": "2a51ca01",
   "metadata": {},
   "outputs": [],
   "source": [
    "from PIL import Image\n",
    "from PIL import ImageDraw\n",
    "from PIL import ImageFont\n",
    "def getSize(txt, font):\n",
    "    testImg = Image.new('RGB', (2, 2))\n",
    "    testDraw = ImageDraw.Draw(testImg)\n",
    "    return testDraw.textsize(txt, font)\n",
    "\n",
    "if __name__ == '__main__':\n",
    "\n",
    "    fontname = \"Arial.ttf\"\n",
    "    fontsize = 20   \n",
    "    text = \"Test\"\n",
    "    \n",
    "    colorText = \"black\"\n",
    "\n",
    "\n",
    "    font = ImageFont.truetype(fontname, fontsize)\n",
    "    width, height = getSize(text, font)\n",
    "    img = Image.new('RGB', (width+4, height+8), colorBackground)\n",
    "    d = ImageDraw.Draw(img)\n",
    "    d.text((2, height/2), text, fill=colorText, font=font)\n",
    "    d.rectangle((0, 0, width+3, height+3), outline=colorOutline)\n",
    "    \n",
    "    img.save(\"image.png\")"
   ]
  },
  {
   "cell_type": "code",
   "execution_count": 56,
   "id": "0552c54f",
   "metadata": {},
   "outputs": [],
   "source": [
    "import warnings\n",
    "warnings.filterwarnings(\"ignore\")"
   ]
  },
  {
   "cell_type": "code",
   "execution_count": 80,
   "id": "c21875bd",
   "metadata": {},
   "outputs": [],
   "source": [
    "font_list = ['AbrilFatface-Regular.otf','AlexBrush-Regular.ttf','Aller_Bd.ttf','Aller_BdIt.ttf','Aller_It.ttf','Aller_Lt.ttf','Aller_LtIt.ttf','Aller_Rg.ttf','AllerDisplay.ttf','Allura-Regular.otf','Antonio-Bold.ttf','Antonio-Light.ttf','Antonio-Regular.ttf','Arizonia-Regular.ttf','Bebas-Regular.ttf','blackjack.otf','Caviar_Dreams_Bold.ttf','CaviarDreams_BoldItalic.ttf','CaviarDreams_Italic.ttf','CaviarDreams.ttf','Chunk Five Print.otf','ChunkFive-Regular.otf','CooperHewitt-Bold.otf','CooperHewitt-BoldItalic.otf','CooperHewitt-Book.otf','CooperHewitt-BookItalic.otf','CooperHewitt-Heavy.otf','CooperHewitt-HeavyItalic.otf','CooperHewitt-Light.otf','CooperHewitt-LightItalic.otf','CooperHewitt-Medium.otf','CooperHewitt-MediumItalic.otf','CooperHewitt-Semibold.otf','CooperHewitt-SemiboldItalic.otf','CooperHewitt-Thin.otf','CooperHewitt-ThinItalic.otf','DancingScript-Regular.otf','FFF_Tusj.ttf','FiraSans-Bold.otf','FiraSans-BoldItalic.otf','FiraSans-Book.otf','FiraSans-BookItalic.otf','FiraSans-Eight.otf','FiraSans-EightItalic.otf','FiraSans-ExtraBold.otf','FiraSans-ExtraBoldItalic.otf','FiraSans-ExtraLight.otf','FiraSans-ExtraLightItalic.otf','FiraSans-Four.otf','FiraSans-FourItalic.otf','FiraSans-Hair.otf','FiraSans-HairItalic.otf','FiraSans-Heavy.otf','FiraSans-HeavyItalic.otf','FiraSans-Italic.otf','FiraSans-Light.otf','FiraSans-LightItalic.otf','FiraSans-Medium.otf','FiraSans-MediumItalic.otf','FiraSans-Regular.otf','FiraSans-SemiBold.otf','FiraSans-SemiBoldItalic.otf','FiraSans-Thin.otf','FiraSans-ThinItalic.otf','FiraSans-Two.otf','FiraSans-TwoItalic.otf','FiraSans-Ultra.otf','FiraSans-UltraItalic.otf','FiraSans-UltraLight.otf','FiraSans-UltraLightItalic.otf','GrandHotel-Regular.otf','GreatVibes-Regular.otf','JosefinSans-Bold.ttf','JosefinSans-BoldItalic.ttf','JosefinSans-Italic.ttf','JosefinSans-Light.ttf','JosefinSans-LightItalic.ttf','JosefinSans-Regular.ttf','JosefinSans-SemiBold.ttf','JosefinSans-SemiBoldItalic.ttf','JosefinSans-Thin.ttf','JosefinSans-ThinItalic.ttf','KaushanScript-Regular.otf','Lato-Black.ttf','Lato-BlackItalic.ttf','Lato-Bold.ttf','Lato-BoldItalic.ttf','Lato-Hairline.ttf','Lato-HairlineItalic.ttf','Lato-Heavy.ttf','Lato-HeavyItalic.ttf','Lato-Italic.ttf','Lato-Light.ttf','Lato-LightItalic.ttf','Lato-Medium.ttf','Lato-MediumItalic.ttf','Lato-Regular.ttf','Lato-Semibold.ttf','Lato-SemiboldItalic.ttf','Lato-Thin.ttf','Lato-ThinItalic.ttf','LeagueGothic-CondensedItalic.otf','LeagueGothic-CondensedRegular.otf','LeagueGothic-Italic.otf','LeagueGothic-Regular.otf','LeagueSpartan-Bold.otf','Lobster_1.3.otf','LobsterTwo-Bold.otf','LobsterTwo-BoldItalic.otf','LobsterTwo-Italic.otf','LobsterTwo-Regular.otf','norwester.otf','OpenSans-Bold.ttf','OpenSans-BoldItalic.ttf','OpenSans-ExtraBold.ttf','OpenSans-ExtraBoldItalic.ttf','OpenSans-Italic.ttf','OpenSans-Light.ttf','OpenSans-LightItalic.ttf','OpenSans-Regular.ttf','OpenSans-Semibold.ttf','OpenSans-SemiboldItalic.ttf','Oswald-Bold.ttf','Oswald-BoldItalic.ttf','Oswald-Demi-BoldItalic.ttf','Oswald-DemiBold.ttf','Oswald-Extra-LightItalic.ttf','Oswald-ExtraLight.ttf','Oswald-Heavy.ttf','Oswald-HeavyItalic.ttf','Oswald-Light.ttf','Oswald-LightItalic.ttf','Oswald-Medium.ttf','Oswald-MediumItalic.ttf','Oswald-Regular.ttf','Oswald-RegularItalic.ttf','Oswald-Stencil.ttf','PlayfairDisplay-Black.otf','PlayfairDisplay-BlackItalic.otf','PlayfairDisplay-Bold.otf','PlayfairDisplay-BoldItalic.otf','PlayfairDisplay-Italic.otf','PlayfairDisplay-Regular.otf','PlayfairDisplaySC-Black.otf','PlayfairDisplaySC-BlackItalic.otf','PlayfairDisplaySC-Bold.otf','PlayfairDisplaySC-BoldItalic.otf','PlayfairDisplaySC-Italic.otf','PlayfairDisplaySC-Regular.otf','Poppins-Black.otf','Poppins-BlackItalic.otf','Poppins-Bold.otf','Poppins-BoldItalic.otf','Poppins-ExtraBold.otf','Poppins-ExtraBoldItalic.otf','Poppins-ExtraLight.otf','Poppins-ExtraLightItalic.otf','Poppins-Italic.otf','Poppins-Light.otf','Poppins-LightItalic.otf','Poppins-Medium.otf','Poppins-MediumItalic.otf','Poppins-Regular.otf','Poppins-SemiBold.otf','Poppins-SemiBoldItalic.otf','Poppins-Thin.otf','Poppins-ThinItalic.otf','PTC55F.ttf','PTC75F.ttf','PTN57F.ttf','PTN77F.ttf','PTS55F.ttf','PTS56F.ttf','PTS75F.ttf','PTS76F.ttf','Quicksand_Dash.otf','Quicksand-Bold.otf','Quicksand-BoldItalic.otf','Quicksand-Italic.otf','Quicksand-Light.otf','Quicksand-LightItalic.otf','Quicksand-Regular.otf','Raleway-Black.ttf','Raleway-BlackItalic.ttf','Raleway-Bold.ttf','Raleway-BoldItalic.ttf','Raleway-ExtraBold.ttf','Raleway-ExtraBoldItalic.ttf','Raleway-ExtraLight.ttf','Raleway-ExtraLightItalic.ttf','Raleway-Italic.ttf','Raleway-Light.ttf','Raleway-LightItalic.ttf','Raleway-Medium.ttf','Raleway-MediumItalic.ttf','Raleway-Regular.ttf','Raleway-SemiBold.ttf','Raleway-SemiBoldItalic.ttf','Raleway-Thin.ttf','Raleway-ThinItalic.ttf','RedHatDisplay-Black.otf','RedHatDisplay-BlackItalic.otf','RedHatDisplay-Bold.otf','RedHatDisplay-BoldItalic.otf','RedHatDisplay-Italic.otf','RedHatDisplay-Medium.otf','RedHatDisplay-MediumItalic.otf','RedHatDisplay-Regular.otf','RedHatText-Bold.otf','RedHatText-BoldItalic.otf','RedHatText-Italic.otf','RedHatText-Medium.otf','RedHatText-MediumItalic.otf','RedHatText-Regular.otf','Roboto-Black.ttf','Roboto-BlackItalic.ttf','Roboto-Bold.ttf','Roboto-BoldItalic.ttf','Roboto-Italic.ttf','Roboto-Light.ttf','Roboto-LightItalic.ttf','Roboto-Medium.ttf','Roboto-MediumItalic.ttf','Roboto-Regular.ttf','Roboto-Thin.ttf','Roboto-ThinItalic.ttf','RobotoCondensed-Bold.ttf','RobotoCondensed-BoldItalic.ttf','RobotoCondensed-Italic.ttf','RobotoCondensed-Light.ttf','RobotoCondensed-LightItalic.ttf','RobotoCondensed-Regular.ttf','Sofia-Regular.otf','Titillium-Black.otf','Titillium-Bold.otf','Titillium-BoldItalic.otf','Titillium-BoldUpright.otf','Titillium-Light.otf','Titillium-LightItalic.otf','Titillium-LightUpright.otf','Titillium-Regular.otf','Titillium-RegularItalic.otf','Titillium-RegularUpright.otf','Titillium-Semibold.otf','Titillium-SemiboldItalic.otf','Titillium-SemiboldUpright.otf','Titillium-Thin.otf','Titillium-ThinItalic.otf','Titillium-ThinUpright.otf']\n"
   ]
  },
  {
   "cell_type": "code",
   "execution_count": 89,
   "id": "b21a1496",
   "metadata": {},
   "outputs": [],
   "source": [
    "def gen_data(word):\n",
    "    for i in range(0,len(font_list)):\n",
    "        if __name__ == '__main__':\n",
    "            fontname = 'Fonts/{}'.format(font_list[i])\n",
    "            fontsize = 60 \n",
    "            text = word\n",
    "            colorText = \"black\"\n",
    "            colorOutline = \"white\"\n",
    "            colorBackground = \"white\"\n",
    "            font = ImageFont.truetype(fontname, fontsize)\n",
    "            width, height = getSize(text, font)\n",
    "            img = Image.new('RGB', (width, height), colorBackground)\n",
    "            d = ImageDraw.Draw(img)\n",
    "            d.text((width/height, height/30), text, fill=colorText, font=font)\n",
    "            d.rectangle((0, 0, width*width*len(text), height*5), outline=colorOutline)\n",
    "            img.save(\"Images/image{}.png\".format(i))\n",
    "        if __name__ == '__main__':\n",
    "            fontname = 'Fonts/{}'.format(font_list[i])\n",
    "            fontsize = 60 \n",
    "            text = word\n",
    "            colorOutline = \"black\"\n",
    "            colorText = \"white\"\n",
    "            colorBackground = \"black\"\n",
    "            font = ImageFont.truetype(fontname, fontsize)\n",
    "            width, height = getSize(text, font)\n",
    "            img = Image.new('RGB', (width, height), colorBackground)\n",
    "            d = ImageDraw.Draw(img)\n",
    "            d.text((width/height, height/30), text, fill=colorText, font=font)\n",
    "            d.rectangle((0, 0, width*width*len(text), height*5), outline=colorOutline)\n",
    "            img.save(\"Images/image_inverse_{}.png\".format(i))"
   ]
  },
  {
   "cell_type": "code",
   "execution_count": 91,
   "id": "0f577555",
   "metadata": {},
   "outputs": [],
   "source": [
    "def gen_rotated_data(word):\n",
    "    for i in range(0,len(font_list)):\n",
    "        if __name__ == '__main__':\n",
    "            fontname = 'Fonts/{}'.format(font_list[i])\n",
    "            fontsize = 60 \n",
    "            text = word\n",
    "            colorText = \"black\"\n",
    "            colorOutline = \"white\"\n",
    "            colorBackground = \"white\"\n",
    "            font = ImageFont.truetype(fontname, fontsize)\n",
    "            width, height = getSize(text, font)\n",
    "            img = Image.new('RGB', (width, height), colorBackground)\n",
    "            d = ImageDraw.Draw(img)\n",
    "            d.text((width/height, height/30), text, fill=colorText, font=font)\n",
    "            d.rectangle((0, 0, width*width*len(text), height*5), outline=colorOutline)\n",
    "            rotated_image = img.rotate(180)\n",
    "            rotated_image.save(\"Rotated Images/image{}.png\".format(i))\n",
    "        if __name__ == '__main__':\n",
    "            fontname = 'Fonts/{}'.format(font_list[i])\n",
    "            fontsize = 60 \n",
    "            text = word\n",
    "            colorOutline = \"black\"\n",
    "            colorText = \"white\"\n",
    "            colorBackground = \"black\"\n",
    "            font = ImageFont.truetype(fontname, fontsize)\n",
    "            width, height = getSize(text, font)\n",
    "            img = Image.new('RGB', (width, height), colorBackground)\n",
    "            d = ImageDraw.Draw(img)\n",
    "            d.text((width/height, height/30), text, fill=colorText, font=font)\n",
    "            d.rectangle((0, 0, width*width*len(text), height*5), outline=colorOutline)\n",
    "            rotated_image = img.rotate(180)\n",
    "            rotated_image.save(\"Rotated Images/image_inverse_{}.png\".format(i))"
   ]
  },
  {
   "cell_type": "code",
   "execution_count": 92,
   "id": "c0f94692",
   "metadata": {},
   "outputs": [],
   "source": [
    "gen_rotated_data('dictionary')"
   ]
  },
  {
   "cell_type": "code",
   "execution_count": null,
   "id": "6e91b8ef",
   "metadata": {},
   "outputs": [],
   "source": []
  }
 ],
 "metadata": {
  "kernelspec": {
   "display_name": "Python 3 (ipykernel)",
   "language": "python",
   "name": "python3"
  },
  "language_info": {
   "codemirror_mode": {
    "name": "ipython",
    "version": 3
   },
   "file_extension": ".py",
   "mimetype": "text/x-python",
   "name": "python",
   "nbconvert_exporter": "python",
   "pygments_lexer": "ipython3",
   "version": "3.11.5"
  }
 },
 "nbformat": 4,
 "nbformat_minor": 5
}
